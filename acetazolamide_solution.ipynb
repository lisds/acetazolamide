{
 "cells": [
  {
   "cell_type": "markdown",
   "id": "84df2fe5",
   "metadata": {},
   "source": [
    "# Treating acute mountain sickness"
   ]
  },
  {
   "cell_type": "code",
   "execution_count": 1,
   "id": "b69971cf",
   "metadata": {
    "execution": {
     "iopub.execute_input": "2023-01-30T12:41:34.408426Z",
     "iopub.status.busy": "2023-01-30T12:41:34.408221Z",
     "iopub.status.idle": "2023-01-30T12:41:35.041698Z",
     "shell.execute_reply": "2023-01-30T12:41:35.041341Z"
    }
   },
   "outputs": [],
   "source": [
    "# Our usual imports\n",
    "import numpy as np\n",
    "# Make random number generator.\n",
    "rng = np.random.default_rng()\n",
    "import pandas as pd\n",
    "# Safe setting for Pandas.  Needs Pandas version >= 1.5.\n",
    "pd.set_option('mode.copy_on_write', True)\n",
    "\n",
    "import matplotlib.pyplot as plt\n",
    "plt.style.use('fivethirtyeight')\n",
    "\n",
    "# The OKpy testing system.\n",
    "from client.api.notebook import Notebook\n",
    "ok = Notebook('acetazolamide.ok')"
   ]
  },
  {
   "cell_type": "markdown",
   "id": "1809ad05",
   "metadata": {},
   "source": [
    "Here we are looking at some data from this experiment:\n",
    "\n",
    "> Emma V. Low et al. \"Identifying the lowest effective dose of\n",
    "acetazolamide for the prophylaxis of acute mountain sickness: systematic review\n",
    "and meta-analysis.\" BMJ, 345, :doi:`10.1136/bmj.e6779`, 2012.\n",
    "\n",
    "The paper studies doses of the drug *acetazolamide* in treating *acute mountain\n",
    "sickness*.  Acute mountain sickness (AMS) is a mild form of the potentially\n",
    "fatal [altitude sickness](https://en.wikipedia.org/wiki/Altitude_sickness),\n",
    "caused by \"rapid exposure to low amounts of oxygen at high elevation\".\n",
    "Symptoms are nausea, headaches, dizziness and fatigue.\n",
    "\n",
    "The paper concludes:\n",
    "\n",
    "> Acetazolamide 250 mg, 500 mg, and 750 mg daily were all efficacious for\n",
    "preventing acute mountain sickness. Acetazolamide 250 mg was the lowest\n",
    "effective dose with available evidence for this indication.\n",
    "\n",
    "We can reconstruct a table from their data that shows the effect of 250mg of\n",
    "acetazolamide daily in preventing AMS, compared to placebo."
   ]
  },
  {
   "cell_type": "code",
   "execution_count": 2,
   "id": "599f154a",
   "metadata": {
    "execution": {
     "iopub.execute_input": "2023-01-30T12:41:35.043747Z",
     "iopub.status.busy": "2023-01-30T12:41:35.043542Z",
     "iopub.status.idle": "2023-01-30T12:41:35.050716Z",
     "shell.execute_reply": "2023-01-30T12:41:35.050404Z"
    }
   },
   "outputs": [],
   "source": [
    "# Build AMS / Drug contingency DataFrame\n",
    "counts = [[7, 17], [15, 5]]  #  A list of lists\n",
    "ams_counts = pd.DataFrame(counts,\n",
    "                          # Set the column labels.\n",
    "                          columns=['Acetazolamide', 'Placebo'],\n",
    "                          # Set the row labels.\n",
    "                          index=['Had AMS', 'No AMS'])\n",
    "ams_counts"
   ]
  },
  {
   "cell_type": "markdown",
   "id": "006b0558",
   "metadata": {},
   "source": [
    "This is a *counts* table, giving the number of people in each category.\n",
    "\n",
    "For example, here is the number of people who did get AMS, who were in the\n",
    "250mg daily acetazolamide group:"
   ]
  },
  {
   "cell_type": "code",
   "execution_count": 3,
   "id": "08a715fa",
   "metadata": {
    "execution": {
     "iopub.execute_input": "2023-01-30T12:41:35.052571Z",
     "iopub.status.busy": "2023-01-30T12:41:35.052437Z",
     "iopub.status.idle": "2023-01-30T12:41:35.055142Z",
     "shell.execute_reply": "2023-01-30T12:41:35.054845Z"
    }
   },
   "outputs": [],
   "source": [
    "ams_counts.loc['Had AMS', 'Acetazolamide']"
   ]
  },
  {
   "cell_type": "markdown",
   "id": "aa929e1e",
   "metadata": {},
   "source": [
    "For our usual task of *inference*, this table gives the *data*."
   ]
  },
  {
   "cell_type": "markdown",
   "id": "8f598592",
   "metadata": {},
   "source": [
    "How convincing is the evidence in this table, that 250mg of acetazolamide is\n",
    "effective in treating AMS?\n",
    "\n",
    "We begin by formulating a null model.  Remember, the null model is a model that\n",
    "is as close as possible to the real world, but with the effect we are\n",
    "interested in set to 0.\n",
    "\n",
    "> The odds of experiencing AMS after treatment with acetazolamide are *not\n",
    "> different from* (are the same as) the odds of experiencing AMS after placebo."
   ]
  },
  {
   "cell_type": "markdown",
   "id": "cf8f014c",
   "metadata": {},
   "source": [
    "We first identify the *statistic* we are going to use.  We use the number of\n",
    "people who did have AMS, who also took the Acetazolamide."
   ]
  },
  {
   "cell_type": "code",
   "execution_count": 4,
   "id": "2053bcce",
   "metadata": {
    "execution": {
     "iopub.execute_input": "2023-01-30T12:41:35.057032Z",
     "iopub.status.busy": "2023-01-30T12:41:35.056896Z",
     "iopub.status.idle": "2023-01-30T12:41:35.059486Z",
     "shell.execute_reply": "2023-01-30T12:41:35.059169Z"
    }
   },
   "outputs": [],
   "source": [
    "observed_stat = ams_counts.loc['Had AMS', 'Acetazolamide']\n",
    "observed_stat"
   ]
  },
  {
   "cell_type": "markdown",
   "id": "af139edc",
   "metadata": {},
   "source": [
    "Our next step is to simulate one trial in the null-world, in which the\n",
    "association is random between AMS (Has and No) and drug (Acetazolamide and\n",
    "Placebo).\n",
    "\n",
    "In order to do that, we want to:\n",
    "\n",
    "* reconstruct the original *Observations* DataFrame from the Counts DataFrame\n",
    "  that we have.  The Observations DataFrame has one row per person, and the\n",
    "  columns are \"AMS\" (Yes or No) and \"Drug\" (Acetazolamide or Placebo).\n",
    "* Simulate a random association, by shuffling the AMS (or Drug) column.\n",
    "* Regenerate the cross-tabulation for this shuffled DataFrame.\n",
    "* Get the statistic of interest (the \"Has AMS\", \"Acetazolamide\" count).\n",
    "\n",
    "The most involved part of this process is first step, going from Counts to\n",
    "Observations.\n",
    "\n",
    "Go back to the [noble politics page](https://lisds.github.io/textbook/wild-pandas/noble_politics) for a refresher on this process.\n",
    "\n",
    "The total number of observations in the Counts data frame is:"
   ]
  },
  {
   "cell_type": "code",
   "execution_count": 5,
   "id": "3167c51a",
   "metadata": {
    "execution": {
     "iopub.execute_input": "2023-01-30T12:41:35.061209Z",
     "iopub.status.busy": "2023-01-30T12:41:35.061069Z",
     "iopub.status.idle": "2023-01-30T12:41:35.063959Z",
     "shell.execute_reply": "2023-01-30T12:41:35.063636Z"
    }
   },
   "outputs": [],
   "source": [
    "# Sum of the row totals.\n",
    "n_total = ams_counts.sum().sum()\n",
    "n_total"
   ]
  },
  {
   "cell_type": "markdown",
   "id": "9e470e81",
   "metadata": {},
   "source": [
    "First make a list of lists, where each list defines one row, and there is one\n",
    "list for every row in the Observations DataFrame.  Call this list of lists\n",
    "`row_lists`.\n",
    "\n",
    "For example, the first three lists in `row_lists` will be:"
   ]
  },
  {
   "cell_type": "code",
   "execution_count": 6,
   "id": "0c184b12",
   "metadata": {
    "execution": {
     "iopub.execute_input": "2023-01-30T12:41:35.065720Z",
     "iopub.status.busy": "2023-01-30T12:41:35.065580Z",
     "iopub.status.idle": "2023-01-30T12:41:35.068176Z",
     "shell.execute_reply": "2023-01-30T12:41:35.067851Z"
    }
   },
   "outputs": [],
   "source": [
    "first_three = [['Had AMS', 'Acetazolamide'],\n",
    "               ['Had AMS', 'Acetazolamide'],\n",
    "               ['Had AMS', 'Acetazolamide']]\n",
    "first_three"
   ]
  },
  {
   "cell_type": "markdown",
   "id": "14af83d1",
   "metadata": {},
   "source": [
    "The last three lists in `row_lists` will be:"
   ]
  },
  {
   "cell_type": "code",
   "execution_count": 7,
   "id": "48ccbc11",
   "metadata": {
    "execution": {
     "iopub.execute_input": "2023-01-30T12:41:35.069956Z",
     "iopub.status.busy": "2023-01-30T12:41:35.069825Z",
     "iopub.status.idle": "2023-01-30T12:41:35.072439Z",
     "shell.execute_reply": "2023-01-30T12:41:35.072133Z"
    }
   },
   "outputs": [],
   "source": [
    "last_three = [['No AMS', 'Placebo'],\n",
    "              ['No AMS', 'Placebo'],\n",
    "              ['No AMS', 'Placebo']]\n",
    "last_three"
   ]
  },
  {
   "cell_type": "markdown",
   "id": "ec6b0d5e",
   "metadata": {},
   "source": [
    "We can get the same list of lists by *multiplying* the list:"
   ]
  },
  {
   "cell_type": "code",
   "execution_count": 8,
   "id": "c83f000b",
   "metadata": {
    "execution": {
     "iopub.execute_input": "2023-01-30T12:41:35.074342Z",
     "iopub.status.busy": "2023-01-30T12:41:35.074195Z",
     "iopub.status.idle": "2023-01-30T12:41:35.076833Z",
     "shell.execute_reply": "2023-01-30T12:41:35.076486Z"
    }
   },
   "outputs": [],
   "source": [
    "[['No AMS', 'Placebo']] * 3"
   ]
  },
  {
   "cell_type": "markdown",
   "id": "495ea475",
   "metadata": {},
   "source": [
    "If you are stuck, check back to the Noble Politics page."
   ]
  },
  {
   "cell_type": "code",
   "execution_count": 9,
   "id": "5fa9f92c",
   "metadata": {
    "execution": {
     "iopub.execute_input": "2023-01-30T12:41:35.078590Z",
     "iopub.status.busy": "2023-01-30T12:41:35.078450Z",
     "iopub.status.idle": "2023-01-30T12:41:35.082065Z",
     "shell.execute_reply": "2023-01-30T12:41:35.081704Z"
    }
   },
   "outputs": [],
   "source": [
    "row_lists = (  # Parentheses just to allow you to split the next\n",
    "               # statement across many lines, if you want.\n",
    "    ...\n",
    ")\n",
    "row_lists = (\n",
    "    [['Had AMS', 'Acetazolamide']] * ams_counts.loc['Had AMS', 'Acetazolamide'] +\n",
    "    [['Had AMS', 'Placebo']] * ams_counts.loc['Had AMS', 'Placebo'] + \n",
    "    [['No AMS', 'Acetazolamide']] * ams_counts.loc['No AMS', 'Acetazolamide'] +\n",
    "    [['No AMS', 'Placebo']] * ams_counts.loc['No AMS', 'Placebo']\n",
    ")\n",
    "# Show the last five lists\n",
    "row_lists[-5:]"
   ]
  },
  {
   "cell_type": "code",
   "execution_count": 10,
   "id": "63c7de7e",
   "metadata": {
    "execution": {
     "iopub.execute_input": "2023-01-30T12:41:35.083819Z",
     "iopub.status.busy": "2023-01-30T12:41:35.083706Z",
     "iopub.status.idle": "2023-01-30T12:41:35.097213Z",
     "shell.execute_reply": "2023-01-30T12:41:35.096893Z"
    }
   },
   "outputs": [],
   "source": [
    "_ = ok.grade('q_01_row_lists')"
   ]
  },
  {
   "cell_type": "markdown",
   "id": "6efe3b33",
   "metadata": {},
   "source": [
    "Use `row_lists` to create an Observations DataFrame `people`, with one row per person in the study.  The first column of the DataFrame should contain the AMS label ('Had AMS' or 'No AMS'), and have the column name `AMS`.  The second column should contain the drug label (`Acetazolamide` or `Placebo`) and be called `Drug` (notice the capitalization)."
   ]
  },
  {
   "cell_type": "code",
   "execution_count": 11,
   "id": "ed1e2de3",
   "metadata": {
    "execution": {
     "iopub.execute_input": "2023-01-30T12:41:35.100769Z",
     "iopub.status.busy": "2023-01-30T12:41:35.100631Z",
     "iopub.status.idle": "2023-01-30T12:41:35.105991Z",
     "shell.execute_reply": "2023-01-30T12:41:35.105692Z"
    }
   },
   "outputs": [],
   "source": [
    "people = ...\n",
    "people = pd.DataFrame(row_lists,\n",
    "                      columns=['AMS', 'Drug'])\n",
    "# Show the result.\n",
    "people"
   ]
  },
  {
   "cell_type": "code",
   "execution_count": 12,
   "id": "814899db",
   "metadata": {
    "execution": {
     "iopub.execute_input": "2023-01-30T12:41:35.107733Z",
     "iopub.status.busy": "2023-01-30T12:41:35.107594Z",
     "iopub.status.idle": "2023-01-30T12:41:35.121281Z",
     "shell.execute_reply": "2023-01-30T12:41:35.120889Z"
    }
   },
   "outputs": [],
   "source": [
    "_ = ok.grade('q_02_people')"
   ]
  },
  {
   "cell_type": "markdown",
   "id": "0c9134aa",
   "metadata": {},
   "source": [
    "Extract the `AMS` column of `people` as the variable `ams`.\n",
    "\n",
    "Extract the `Drug` column of `people` as the variable `drug`."
   ]
  },
  {
   "cell_type": "code",
   "execution_count": 13,
   "id": "1507bcb3",
   "metadata": {
    "execution": {
     "iopub.execute_input": "2023-01-30T12:41:35.124781Z",
     "iopub.status.busy": "2023-01-30T12:41:35.124642Z",
     "iopub.status.idle": "2023-01-30T12:41:35.126663Z",
     "shell.execute_reply": "2023-01-30T12:41:35.126375Z"
    }
   },
   "outputs": [],
   "source": [
    "ams = ...\n",
    "drug = ...\n",
    "ams = people['AMS']\n",
    "drug = people['Drug']"
   ]
  },
  {
   "cell_type": "code",
   "execution_count": 14,
   "id": "e4140e3e",
   "metadata": {
    "execution": {
     "iopub.execute_input": "2023-01-30T12:41:35.128451Z",
     "iopub.status.busy": "2023-01-30T12:41:35.128308Z",
     "iopub.status.idle": "2023-01-30T12:41:35.140982Z",
     "shell.execute_reply": "2023-01-30T12:41:35.140631Z"
    }
   },
   "outputs": [],
   "source": [
    "_ = ok.grade('q_03_columns')"
   ]
  },
  {
   "cell_type": "markdown",
   "id": "9d25c085",
   "metadata": {},
   "source": [
    "Run the cell below to assure yourself that the crosstab of the two columns\n",
    "reconstructs the original counts DataFrame."
   ]
  },
  {
   "cell_type": "code",
   "execution_count": 15,
   "id": "e3c82e3d",
   "metadata": {
    "execution": {
     "iopub.execute_input": "2023-01-30T12:41:35.144389Z",
     "iopub.status.busy": "2023-01-30T12:41:35.144252Z",
     "iopub.status.idle": "2023-01-30T12:41:35.151113Z",
     "shell.execute_reply": "2023-01-30T12:41:35.150775Z"
    }
   },
   "outputs": [],
   "source": [
    "# Run this cell.\n",
    "pd.crosstab(ams, drug)"
   ]
  },
  {
   "cell_type": "markdown",
   "id": "2888a56f",
   "metadata": {},
   "source": [
    "We are now ready to do the other steps in inference.\n",
    "\n",
    "First construct a counts table from the null-world, called `fake_ams_counts`.\n",
    "This is the cross-tabulation of a shuffled version of `ams` with the original\n",
    "`drug`.\n"
   ]
  },
  {
   "cell_type": "code",
   "execution_count": 16,
   "id": "2945f0a8",
   "metadata": {
    "execution": {
     "iopub.execute_input": "2023-01-30T12:41:35.152973Z",
     "iopub.status.busy": "2023-01-30T12:41:35.152831Z",
     "iopub.status.idle": "2023-01-30T12:41:35.159899Z",
     "shell.execute_reply": "2023-01-30T12:41:35.159579Z"
    }
   },
   "outputs": [],
   "source": [
    "fake_ams_counts = ...\n",
    "fake_drug = rng.permutation(drug)\n",
    "fake_ams_counts = pd.crosstab(ams, fake_drug)\n",
    "# Show the result\n",
    "fake_ams_counts"
   ]
  },
  {
   "cell_type": "code",
   "execution_count": 17,
   "id": "ebc0a943",
   "metadata": {
    "execution": {
     "iopub.execute_input": "2023-01-30T12:41:35.161613Z",
     "iopub.status.busy": "2023-01-30T12:41:35.161476Z",
     "iopub.status.idle": "2023-01-30T12:41:35.170949Z",
     "shell.execute_reply": "2023-01-30T12:41:35.170602Z"
    }
   },
   "outputs": [],
   "source": [
    "_ = ok.grade('q_04_fake_ams_counts')"
   ]
  },
  {
   "cell_type": "markdown",
   "id": "22445c54",
   "metadata": {},
   "source": [
    "You can extract the *statistic* for this trial in the null-world, by getting\n",
    "the value we are interested in, like this:"
   ]
  },
  {
   "cell_type": "code",
   "execution_count": 18,
   "id": "c27fce7f",
   "metadata": {
    "execution": {
     "iopub.execute_input": "2023-01-30T12:41:35.174426Z",
     "iopub.status.busy": "2023-01-30T12:41:35.174286Z",
     "iopub.status.idle": "2023-01-30T12:41:35.176880Z",
     "shell.execute_reply": "2023-01-30T12:41:35.176572Z"
    }
   },
   "outputs": [],
   "source": [
    "fake_stat = fake_ams_counts.loc['Had AMS', 'Acetazolamide']\n",
    "fake_stat"
   ]
  },
  {
   "cell_type": "markdown",
   "id": "0e0348a6",
   "metadata": {},
   "source": [
    "Now you have the procedure to do a single trial, put all this into a `for`\n",
    "loop, to repeat the following 1000 times:\n",
    "\n",
    "* Make a new `fake_ams_counts` table.\n",
    "* Extract the `fake_stat` value of interest.\n",
    "* Store the `fake_stat` value in an array `fake_stats`."
   ]
  },
  {
   "cell_type": "code",
   "execution_count": 19,
   "id": "02d37179",
   "metadata": {
    "execution": {
     "iopub.execute_input": "2023-01-30T12:41:35.178641Z",
     "iopub.status.busy": "2023-01-30T12:41:35.178506Z",
     "iopub.status.idle": "2023-01-30T12:41:37.676159Z",
     "shell.execute_reply": "2023-01-30T12:41:37.675782Z"
    }
   },
   "outputs": [],
   "source": [
    "n_iters = 1000\n",
    "fake_stats = np.zeros(n_iters)\n",
    "for i in np.arange(n_iters):\n",
    "    fake_drug = rng.permutation(drug)\n",
    "    fake_ams_counts = pd.crosstab(ams, fake_drug)\n",
    "    fake_stat = fake_ams_counts.loc['Had AMS', 'Acetazolamide']\n",
    "    fake_stats[i] = fake_stat\n",
    "# Show the first 10 fake_stats values\n",
    "fake_stats[:10]"
   ]
  },
  {
   "cell_type": "code",
   "execution_count": 20,
   "id": "84bba532",
   "metadata": {
    "execution": {
     "iopub.execute_input": "2023-01-30T12:41:37.678174Z",
     "iopub.status.busy": "2023-01-30T12:41:37.678017Z",
     "iopub.status.idle": "2023-01-30T12:41:37.687880Z",
     "shell.execute_reply": "2023-01-30T12:41:37.687519Z"
    }
   },
   "outputs": [],
   "source": [
    "_ = ok.grade('q_05_fake_counts')"
   ]
  },
  {
   "cell_type": "markdown",
   "id": "a80ab2f8",
   "metadata": {},
   "source": [
    "Plot a histogram of your `fake_stats` values to see how they relate to the\n",
    "observed value from the real world, above."
   ]
  },
  {
   "cell_type": "code",
   "execution_count": 21,
   "id": "7d314046",
   "metadata": {
    "execution": {
     "iopub.execute_input": "2023-01-30T12:41:37.691670Z",
     "iopub.status.busy": "2023-01-30T12:41:37.691524Z",
     "iopub.status.idle": "2023-01-30T12:41:37.786952Z",
     "shell.execute_reply": "2023-01-30T12:41:37.786603Z"
    }
   },
   "outputs": [],
   "source": [
    "#- Plot a histogram of `fake_stats`\n",
    "plt.hist(fake_stats);"
   ]
  },
  {
   "cell_type": "markdown",
   "id": "7fb1f904",
   "metadata": {},
   "source": [
    "Calculate the estimated probability `p_est` that we would see a value that is\n",
    "less than or equal to the observed number of 'No AMS' and 'Acetazolamide', in\n",
    "the null-world you have just simulated."
   ]
  },
  {
   "cell_type": "code",
   "execution_count": 22,
   "id": "5b9eedf1",
   "metadata": {
    "execution": {
     "iopub.execute_input": "2023-01-30T12:41:37.788979Z",
     "iopub.status.busy": "2023-01-30T12:41:37.788836Z",
     "iopub.status.idle": "2023-01-30T12:41:37.791752Z",
     "shell.execute_reply": "2023-01-30T12:41:37.791418Z"
    }
   },
   "outputs": [],
   "source": [
    "p_est = np.count_nonzero(fake_stats <= observed_stat) / n_iters\n",
    "p_est"
   ]
  },
  {
   "cell_type": "code",
   "execution_count": 23,
   "id": "321305d6",
   "metadata": {
    "execution": {
     "iopub.execute_input": "2023-01-30T12:41:37.793538Z",
     "iopub.status.busy": "2023-01-30T12:41:37.793391Z",
     "iopub.status.idle": "2023-01-30T12:41:37.802946Z",
     "shell.execute_reply": "2023-01-30T12:41:37.802534Z"
    }
   },
   "outputs": [],
   "source": [
    "_ = ok.grade('q_06_p_est')"
   ]
  },
  {
   "cell_type": "markdown",
   "id": "262d09e0",
   "metadata": {},
   "source": [
    "## Done.\n",
    "\n",
    "Congratulations, you're done with the assignment!  Be sure to:\n",
    "\n",
    "- **run all the tests** (the next cell has a shortcut for that).\n",
    "- **Save and Checkpoint** from the `File` menu."
   ]
  },
  {
   "cell_type": "code",
   "execution_count": 24,
   "id": "529a9b11",
   "metadata": {
    "execution": {
     "iopub.execute_input": "2023-01-30T12:41:37.806362Z",
     "iopub.status.busy": "2023-01-30T12:41:37.806222Z",
     "iopub.status.idle": "2023-01-30T12:41:37.863632Z",
     "shell.execute_reply": "2023-01-30T12:41:37.863239Z"
    }
   },
   "outputs": [],
   "source": [
    "# For your convenience, you can run this cell to run all the tests at once!\n",
    "import os\n",
    "_ = [ok.grade(q[:-3]) for q in os.listdir(\"tests\") if q.startswith('q')]"
   ]
  }
 ],
 "metadata": {
  "jupytext": {
   "notebook_metadata_filter": "all,-language_info",
   "split_at_heading": true,
   "text_representation": {
    "extension": ".Rmd",
    "format_name": "rmarkdown",
    "format_version": "1.2",
    "jupytext_version": "1.14.1"
   }
  },
  "kernelspec": {
   "display_name": "Python 3 (ipykernel)",
   "language": "python",
   "name": "python3"
  },
  "language_info": {
   "codemirror_mode": {
    "name": "ipython",
    "version": 3
   },
   "file_extension": ".py",
   "mimetype": "text/x-python",
   "name": "python",
   "nbconvert_exporter": "python",
   "pygments_lexer": "ipython3",
   "version": "3.10.9"
  }
 },
 "nbformat": 4,
 "nbformat_minor": 5
}
