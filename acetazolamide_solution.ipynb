{
 "cells": [
  {
   "cell_type": "markdown",
   "id": "bc31ba12",
   "metadata": {},
   "source": [
    "# Treating acute mountain sickness"
   ]
  },
  {
   "cell_type": "code",
   "execution_count": 1,
   "id": "d0c84e19",
   "metadata": {
    "execution": {
     "iopub.execute_input": "2023-01-30T13:17:12.572903Z",
     "iopub.status.busy": "2023-01-30T13:17:12.572565Z",
     "iopub.status.idle": "2023-01-30T13:17:13.205530Z",
     "shell.execute_reply": "2023-01-30T13:17:13.205131Z"
    }
   },
   "outputs": [],
   "source": [
    "# Our usual imports\n",
    "import numpy as np\n",
    "# Make random number generator.\n",
    "rng = np.random.default_rng()\n",
    "import pandas as pd\n",
    "# Safe setting for Pandas.  Needs Pandas version >= 1.5.\n",
    "pd.set_option('mode.copy_on_write', True)\n",
    "\n",
    "import matplotlib.pyplot as plt\n",
    "plt.style.use('fivethirtyeight')\n",
    "\n",
    "# The OKpy testing system.\n",
    "from client.api.notebook import Notebook\n",
    "ok = Notebook('acetazolamide.ok')"
   ]
  },
  {
   "cell_type": "markdown",
   "id": "fe17cb1a",
   "metadata": {},
   "source": [
    "Here we are looking at some data from this experiment:\n",
    "\n",
    "> Emma V. Low et al. \"Identifying the lowest effective dose of\n",
    "acetazolamide for the prophylaxis of acute mountain sickness: systematic review\n",
    "and meta-analysis.\" BMJ, 345, :doi:`10.1136/bmj.e6779`, 2012.\n",
    "\n",
    "The paper studies doses of the drug *acetazolamide* in treating *acute mountain\n",
    "sickness*.  Acute mountain sickness (AMS) is a mild form of the potentially\n",
    "fatal [altitude sickness](https://en.wikipedia.org/wiki/Altitude_sickness),\n",
    "caused by \"rapid exposure to low amounts of oxygen at high elevation\".\n",
    "Symptoms are nausea, headaches, dizziness and fatigue.\n",
    "\n",
    "The paper concludes:\n",
    "\n",
    "> Acetazolamide 250 mg, 500 mg, and 750 mg daily were all efficacious for\n",
    "preventing acute mountain sickness. Acetazolamide 250 mg was the lowest\n",
    "effective dose with available evidence for this indication.\n",
    "\n",
    "We can reconstruct a table from their data that shows the effect of 250mg of\n",
    "acetazolamide daily in preventing AMS, compared to placebo."
   ]
  },
  {
   "cell_type": "code",
   "execution_count": 2,
   "id": "2c8a990e",
   "metadata": {
    "execution": {
     "iopub.execute_input": "2023-01-30T13:17:13.208004Z",
     "iopub.status.busy": "2023-01-30T13:17:13.207754Z",
     "iopub.status.idle": "2023-01-30T13:17:13.215074Z",
     "shell.execute_reply": "2023-01-30T13:17:13.214745Z"
    }
   },
   "outputs": [],
   "source": [
    "# Build AMS / Drug contingency DataFrame\n",
    "counts = [[7, 17], [15, 5]]  #  A list of lists\n",
    "ams_counts = pd.DataFrame(counts,\n",
    "                          # Set the column labels.\n",
    "                          columns=['Acetazolamide', 'Placebo'],\n",
    "                          # Set the row labels.\n",
    "                          index=['Had AMS', 'No AMS'])\n",
    "ams_counts"
   ]
  },
  {
   "cell_type": "markdown",
   "id": "10cd1e9b",
   "metadata": {},
   "source": [
    "This is a *counts* table, giving the number of people in each category.\n",
    "\n",
    "For example, here is the number of people who did get AMS, who were in the\n",
    "250mg daily acetazolamide group:"
   ]
  },
  {
   "cell_type": "code",
   "execution_count": 3,
   "id": "90168564",
   "metadata": {
    "execution": {
     "iopub.execute_input": "2023-01-30T13:17:13.216924Z",
     "iopub.status.busy": "2023-01-30T13:17:13.216783Z",
     "iopub.status.idle": "2023-01-30T13:17:13.219535Z",
     "shell.execute_reply": "2023-01-30T13:17:13.219228Z"
    }
   },
   "outputs": [],
   "source": [
    "ams_counts.loc['Had AMS', 'Acetazolamide']"
   ]
  },
  {
   "cell_type": "markdown",
   "id": "c693f46b",
   "metadata": {},
   "source": [
    "For our usual task of *inference*, this table gives the *data*."
   ]
  },
  {
   "cell_type": "markdown",
   "id": "85286560",
   "metadata": {},
   "source": [
    "How convincing is the evidence in this table, that 250mg of acetazolamide is\n",
    "effective in treating AMS?\n",
    "\n",
    "We begin by formulating a null model.  Remember, the null model is a model that\n",
    "is as close as possible to the real world, but with the effect we are\n",
    "interested in set to 0.\n",
    "\n",
    "> The odds of experiencing AMS after treatment with acetazolamide are *not\n",
    "> different from* (are the same as) the odds of experiencing AMS after placebo."
   ]
  },
  {
   "cell_type": "markdown",
   "id": "ed25a422",
   "metadata": {},
   "source": [
    "We first identify the *statistic* we are going to use.  We use the number of\n",
    "people who did have AMS, who also took the Acetazolamide."
   ]
  },
  {
   "cell_type": "code",
   "execution_count": 4,
   "id": "d85e329a",
   "metadata": {
    "execution": {
     "iopub.execute_input": "2023-01-30T13:17:13.221495Z",
     "iopub.status.busy": "2023-01-30T13:17:13.221354Z",
     "iopub.status.idle": "2023-01-30T13:17:13.223788Z",
     "shell.execute_reply": "2023-01-30T13:17:13.223467Z"
    }
   },
   "outputs": [],
   "source": [
    "observed_stat = ams_counts.loc['Had AMS', 'Acetazolamide']\n",
    "observed_stat"
   ]
  },
  {
   "cell_type": "markdown",
   "id": "631239f4",
   "metadata": {},
   "source": [
    "Our next step is to simulate one trial in the null-world, in which the\n",
    "association is random between AMS (Has and No) and drug (Acetazolamide and\n",
    "Placebo).\n",
    "\n",
    "In order to do that, we want to:\n",
    "\n",
    "* reconstruct the original *Observations* DataFrame from the Counts DataFrame\n",
    "  that we have.  The Observations DataFrame has one row per person, and the\n",
    "  columns are \"AMS\" (Yes or No) and \"Drug\" (Acetazolamide or Placebo).\n",
    "* Simulate a random association, by shuffling the AMS (or Drug) column.\n",
    "* Regenerate the cross-tabulation for this shuffled DataFrame.\n",
    "* Get the statistic of interest (the \"Has AMS\", \"Acetazolamide\" count).\n",
    "\n",
    "The most involved part of this process is first step, going from Counts to\n",
    "Observations.\n",
    "\n",
    "Go back to the [noble politics page](https://lisds.github.io/textbook/wild-pandas/noble_politics) for a refresher on this process.\n",
    "\n",
    "The total number of observations in the Counts data frame is:"
   ]
  },
  {
   "cell_type": "code",
   "execution_count": 5,
   "id": "351e4f48",
   "metadata": {
    "execution": {
     "iopub.execute_input": "2023-01-30T13:17:13.225571Z",
     "iopub.status.busy": "2023-01-30T13:17:13.225429Z",
     "iopub.status.idle": "2023-01-30T13:17:13.228226Z",
     "shell.execute_reply": "2023-01-30T13:17:13.227901Z"
    }
   },
   "outputs": [],
   "source": [
    "# Sum of the row totals.\n",
    "n_total = ams_counts.sum().sum()\n",
    "n_total"
   ]
  },
  {
   "cell_type": "markdown",
   "id": "65bb4e90",
   "metadata": {},
   "source": [
    "First make a list of lists, where each list defines one row, and there is one\n",
    "list for every row in the Observations DataFrame.  Call this list of lists\n",
    "`row_lists`.\n",
    "\n",
    "For example, the first three lists in `row_lists` will be:"
   ]
  },
  {
   "cell_type": "code",
   "execution_count": 6,
   "id": "a929002c",
   "metadata": {
    "execution": {
     "iopub.execute_input": "2023-01-30T13:17:13.230059Z",
     "iopub.status.busy": "2023-01-30T13:17:13.229922Z",
     "iopub.status.idle": "2023-01-30T13:17:13.232725Z",
     "shell.execute_reply": "2023-01-30T13:17:13.232387Z"
    }
   },
   "outputs": [],
   "source": [
    "first_three = [['Had AMS', 'Acetazolamide'],\n",
    "               ['Had AMS', 'Acetazolamide'],\n",
    "               ['Had AMS', 'Acetazolamide']]\n",
    "first_three"
   ]
  },
  {
   "cell_type": "markdown",
   "id": "a277668f",
   "metadata": {},
   "source": [
    "The last three lists in `row_lists` will be:"
   ]
  },
  {
   "cell_type": "code",
   "execution_count": 7,
   "id": "f9a8cadd",
   "metadata": {
    "execution": {
     "iopub.execute_input": "2023-01-30T13:17:13.234532Z",
     "iopub.status.busy": "2023-01-30T13:17:13.234388Z",
     "iopub.status.idle": "2023-01-30T13:17:13.237162Z",
     "shell.execute_reply": "2023-01-30T13:17:13.236844Z"
    }
   },
   "outputs": [],
   "source": [
    "last_three = [['No AMS', 'Placebo'],\n",
    "              ['No AMS', 'Placebo'],\n",
    "              ['No AMS', 'Placebo']]\n",
    "last_three"
   ]
  },
  {
   "cell_type": "markdown",
   "id": "ef87743d",
   "metadata": {},
   "source": [
    "We can get the same list of lists by *multiplying* the list:"
   ]
  },
  {
   "cell_type": "code",
   "execution_count": 8,
   "id": "64315bf6",
   "metadata": {
    "execution": {
     "iopub.execute_input": "2023-01-30T13:17:13.238916Z",
     "iopub.status.busy": "2023-01-30T13:17:13.238778Z",
     "iopub.status.idle": "2023-01-30T13:17:13.241348Z",
     "shell.execute_reply": "2023-01-30T13:17:13.241042Z"
    }
   },
   "outputs": [],
   "source": [
    "[['No AMS', 'Placebo']] * 3"
   ]
  },
  {
   "cell_type": "markdown",
   "id": "44e9922d",
   "metadata": {},
   "source": [
    "If you are stuck, check back to the Noble Politics page."
   ]
  },
  {
   "cell_type": "code",
   "execution_count": 9,
   "id": "0d0a500c",
   "metadata": {
    "execution": {
     "iopub.execute_input": "2023-01-30T13:17:13.243102Z",
     "iopub.status.busy": "2023-01-30T13:17:13.242965Z",
     "iopub.status.idle": "2023-01-30T13:17:13.246644Z",
     "shell.execute_reply": "2023-01-30T13:17:13.246304Z"
    }
   },
   "outputs": [],
   "source": [
    "row_lists = (  # Parentheses just to allow you to split the next\n",
    "               # statement across many lines, if you want.\n",
    "    ...\n",
    ")\n",
    "row_lists = (\n",
    "    [['Had AMS', 'Acetazolamide']] * ams_counts.loc['Had AMS', 'Acetazolamide'] +\n",
    "    [['Had AMS', 'Placebo']] * ams_counts.loc['Had AMS', 'Placebo'] + \n",
    "    [['No AMS', 'Acetazolamide']] * ams_counts.loc['No AMS', 'Acetazolamide'] +\n",
    "    [['No AMS', 'Placebo']] * ams_counts.loc['No AMS', 'Placebo']\n",
    ")\n",
    "# Show the last five lists\n",
    "row_lists[-5:]"
   ]
  },
  {
   "cell_type": "code",
   "execution_count": 10,
   "id": "491ff30b",
   "metadata": {
    "execution": {
     "iopub.execute_input": "2023-01-30T13:17:13.248307Z",
     "iopub.status.busy": "2023-01-30T13:17:13.248200Z",
     "iopub.status.idle": "2023-01-30T13:17:13.261985Z",
     "shell.execute_reply": "2023-01-30T13:17:13.261624Z"
    }
   },
   "outputs": [],
   "source": [
    "_ = ok.grade('q_01_row_lists')"
   ]
  },
  {
   "cell_type": "markdown",
   "id": "53f52cd5",
   "metadata": {},
   "source": [
    "Use `row_lists` to create an Observations DataFrame `people`, with one row per person in the study.  The first column of the DataFrame should contain the AMS label ('Had AMS' or 'No AMS'), and have the column name `AMS`.  The second column should contain the drug label (`Acetazolamide` or `Placebo`) and be called `Drug` (notice the capitalization)."
   ]
  },
  {
   "cell_type": "code",
   "execution_count": 11,
   "id": "f8b26052",
   "metadata": {
    "execution": {
     "iopub.execute_input": "2023-01-30T13:17:13.265553Z",
     "iopub.status.busy": "2023-01-30T13:17:13.265416Z",
     "iopub.status.idle": "2023-01-30T13:17:13.270810Z",
     "shell.execute_reply": "2023-01-30T13:17:13.270479Z"
    }
   },
   "outputs": [],
   "source": [
    "people = pd.DataFrame(row_lists,\n",
    "                      columns=['AMS', 'Drug'])\n",
    "# Show the result.\n",
    "people"
   ]
  },
  {
   "cell_type": "code",
   "execution_count": 12,
   "id": "4dc69276",
   "metadata": {
    "execution": {
     "iopub.execute_input": "2023-01-30T13:17:13.272477Z",
     "iopub.status.busy": "2023-01-30T13:17:13.272341Z",
     "iopub.status.idle": "2023-01-30T13:17:13.285954Z",
     "shell.execute_reply": "2023-01-30T13:17:13.285599Z"
    }
   },
   "outputs": [],
   "source": [
    "_ = ok.grade('q_02_people')"
   ]
  },
  {
   "cell_type": "markdown",
   "id": "0514f109",
   "metadata": {},
   "source": [
    "Extract the `AMS` column of `people` as the variable `ams`.\n",
    "\n",
    "Extract the `Drug` column of `people` as the variable `drug`."
   ]
  },
  {
   "cell_type": "code",
   "execution_count": 13,
   "id": "7e8dd80f",
   "metadata": {
    "execution": {
     "iopub.execute_input": "2023-01-30T13:17:13.289494Z",
     "iopub.status.busy": "2023-01-30T13:17:13.289351Z",
     "iopub.status.idle": "2023-01-30T13:17:13.291487Z",
     "shell.execute_reply": "2023-01-30T13:17:13.291145Z"
    }
   },
   "outputs": [],
   "source": [
    "ams = ...\n",
    "drug = ...\n",
    "ams = people['AMS']\n",
    "drug = people['Drug']"
   ]
  },
  {
   "cell_type": "code",
   "execution_count": 14,
   "id": "a04c1b69",
   "metadata": {
    "execution": {
     "iopub.execute_input": "2023-01-30T13:17:13.293195Z",
     "iopub.status.busy": "2023-01-30T13:17:13.293061Z",
     "iopub.status.idle": "2023-01-30T13:17:13.305442Z",
     "shell.execute_reply": "2023-01-30T13:17:13.305057Z"
    }
   },
   "outputs": [],
   "source": [
    "_ = ok.grade('q_03_columns')"
   ]
  },
  {
   "cell_type": "markdown",
   "id": "8e4836d5",
   "metadata": {},
   "source": [
    "Run the cell below to assure yourself that the crosstab of the two columns\n",
    "reconstructs the original counts DataFrame."
   ]
  },
  {
   "cell_type": "code",
   "execution_count": 15,
   "id": "81d47bd4",
   "metadata": {
    "execution": {
     "iopub.execute_input": "2023-01-30T13:17:13.308887Z",
     "iopub.status.busy": "2023-01-30T13:17:13.308747Z",
     "iopub.status.idle": "2023-01-30T13:17:13.315516Z",
     "shell.execute_reply": "2023-01-30T13:17:13.315174Z"
    }
   },
   "outputs": [],
   "source": [
    "# Run this cell.\n",
    "pd.crosstab(ams, drug)"
   ]
  },
  {
   "cell_type": "markdown",
   "id": "0f6752e2",
   "metadata": {},
   "source": [
    "We are now ready to do the other steps in inference.\n",
    "\n",
    "First construct a counts table from the null-world, called `fake_ams_counts`.\n",
    "This is the cross-tabulation of a shuffled version of `ams` with the original\n",
    "`drug`.\n"
   ]
  },
  {
   "cell_type": "code",
   "execution_count": 16,
   "id": "2f5c0998",
   "metadata": {
    "execution": {
     "iopub.execute_input": "2023-01-30T13:17:13.317344Z",
     "iopub.status.busy": "2023-01-30T13:17:13.317199Z",
     "iopub.status.idle": "2023-01-30T13:17:13.324249Z",
     "shell.execute_reply": "2023-01-30T13:17:13.323915Z"
    }
   },
   "outputs": [],
   "source": [
    "fake_ams_counts = ...\n",
    "fake_drug = rng.permutation(drug)\n",
    "fake_ams_counts = pd.crosstab(ams, fake_drug)\n",
    "# Show the result\n",
    "fake_ams_counts"
   ]
  },
  {
   "cell_type": "code",
   "execution_count": 17,
   "id": "353b6528",
   "metadata": {
    "execution": {
     "iopub.execute_input": "2023-01-30T13:17:13.325968Z",
     "iopub.status.busy": "2023-01-30T13:17:13.325828Z",
     "iopub.status.idle": "2023-01-30T13:17:13.335235Z",
     "shell.execute_reply": "2023-01-30T13:17:13.334888Z"
    }
   },
   "outputs": [],
   "source": [
    "_ = ok.grade('q_04_fake_ams_counts')"
   ]
  },
  {
   "cell_type": "markdown",
   "id": "1fa9248d",
   "metadata": {},
   "source": [
    "You can extract the *statistic* for this trial in the null-world, by getting\n",
    "the value we are interested in, like this:"
   ]
  },
  {
   "cell_type": "code",
   "execution_count": 18,
   "id": "f878cfe3",
   "metadata": {
    "execution": {
     "iopub.execute_input": "2023-01-30T13:17:13.338674Z",
     "iopub.status.busy": "2023-01-30T13:17:13.338535Z",
     "iopub.status.idle": "2023-01-30T13:17:13.341143Z",
     "shell.execute_reply": "2023-01-30T13:17:13.340824Z"
    }
   },
   "outputs": [],
   "source": [
    "fake_stat = fake_ams_counts.loc['Had AMS', 'Acetazolamide']\n",
    "fake_stat"
   ]
  },
  {
   "cell_type": "markdown",
   "id": "f210afc1",
   "metadata": {},
   "source": [
    "Now you have the procedure to do a single trial, put all this into a `for`\n",
    "loop, to repeat the following 1000 times:\n",
    "\n",
    "* Make a new `fake_ams_counts` table.\n",
    "* Extract the `fake_stat` value of interest.\n",
    "* Store the `fake_stat` value in an array `fake_stats`."
   ]
  },
  {
   "cell_type": "code",
   "execution_count": 19,
   "id": "48d1046e",
   "metadata": {
    "execution": {
     "iopub.execute_input": "2023-01-30T13:17:13.342941Z",
     "iopub.status.busy": "2023-01-30T13:17:13.342799Z",
     "iopub.status.idle": "2023-01-30T13:17:15.830768Z",
     "shell.execute_reply": "2023-01-30T13:17:15.830401Z"
    }
   },
   "outputs": [],
   "source": [
    "n_iters = 1000\n",
    "fake_stats = np.zeros(n_iters)\n",
    "for i in np.arange(n_iters):\n",
    "    fake_drug = rng.permutation(drug)\n",
    "    fake_ams_counts = pd.crosstab(ams, fake_drug)\n",
    "    fake_stat = fake_ams_counts.loc['Had AMS', 'Acetazolamide']\n",
    "    fake_stats[i] = fake_stat\n",
    "# Show the first 10 fake_stats values\n",
    "fake_stats[:10]"
   ]
  },
  {
   "cell_type": "code",
   "execution_count": 20,
   "id": "86a4b3dd",
   "metadata": {
    "execution": {
     "iopub.execute_input": "2023-01-30T13:17:15.832693Z",
     "iopub.status.busy": "2023-01-30T13:17:15.832534Z",
     "iopub.status.idle": "2023-01-30T13:17:15.842616Z",
     "shell.execute_reply": "2023-01-30T13:17:15.842253Z"
    }
   },
   "outputs": [],
   "source": [
    "_ = ok.grade('q_05_fake_counts')"
   ]
  },
  {
   "cell_type": "markdown",
   "id": "89153580",
   "metadata": {},
   "source": [
    "Plot a histogram of your `fake_stats` values to see how they relate to the\n",
    "observed value from the real world, above."
   ]
  },
  {
   "cell_type": "code",
   "execution_count": 21,
   "id": "f2179da1",
   "metadata": {
    "execution": {
     "iopub.execute_input": "2023-01-30T13:17:15.845952Z",
     "iopub.status.busy": "2023-01-30T13:17:15.845807Z",
     "iopub.status.idle": "2023-01-30T13:17:15.938555Z",
     "shell.execute_reply": "2023-01-30T13:17:15.938216Z"
    }
   },
   "outputs": [],
   "source": [
    "#- Plot a histogram of `fake_stats`\n",
    "plt.hist(fake_stats);"
   ]
  },
  {
   "cell_type": "markdown",
   "id": "39415c95",
   "metadata": {},
   "source": [
    "Calculate the estimated probability `p_est` that we would see a value that is\n",
    "less than or equal to the observed number of 'No AMS' and 'Acetazolamide', in\n",
    "the null-world you have just simulated."
   ]
  },
  {
   "cell_type": "code",
   "execution_count": 22,
   "id": "e7b0573a",
   "metadata": {
    "execution": {
     "iopub.execute_input": "2023-01-30T13:17:15.940547Z",
     "iopub.status.busy": "2023-01-30T13:17:15.940402Z",
     "iopub.status.idle": "2023-01-30T13:17:15.943087Z",
     "shell.execute_reply": "2023-01-30T13:17:15.942703Z"
    }
   },
   "outputs": [],
   "source": [
    "p_est = np.count_nonzero(fake_stats <= observed_stat) / n_iters\n",
    "p_est"
   ]
  },
  {
   "cell_type": "code",
   "execution_count": 23,
   "id": "c167d097",
   "metadata": {
    "execution": {
     "iopub.execute_input": "2023-01-30T13:17:15.944984Z",
     "iopub.status.busy": "2023-01-30T13:17:15.944821Z",
     "iopub.status.idle": "2023-01-30T13:17:15.954677Z",
     "shell.execute_reply": "2023-01-30T13:17:15.954247Z"
    }
   },
   "outputs": [],
   "source": [
    "_ = ok.grade('q_06_p_est')"
   ]
  },
  {
   "cell_type": "markdown",
   "id": "2891b0d8",
   "metadata": {},
   "source": [
    "## Done.\n",
    "\n",
    "Congratulations, you're done with the assignment!  Be sure to:\n",
    "\n",
    "- **run all the tests** (the next cell has a shortcut for that).\n",
    "- **Save and Checkpoint** from the `File` menu."
   ]
  },
  {
   "cell_type": "code",
   "execution_count": 24,
   "id": "be02ce54",
   "metadata": {
    "execution": {
     "iopub.execute_input": "2023-01-30T13:17:15.958127Z",
     "iopub.status.busy": "2023-01-30T13:17:15.957981Z",
     "iopub.status.idle": "2023-01-30T13:17:16.014164Z",
     "shell.execute_reply": "2023-01-30T13:17:16.013729Z"
    }
   },
   "outputs": [],
   "source": [
    "# For your convenience, you can run this cell to run all the tests at once!\n",
    "import os\n",
    "_ = [ok.grade(q[:-3]) for q in os.listdir(\"tests\") if q.startswith('q')]"
   ]
  }
 ],
 "metadata": {
  "jupytext": {
   "notebook_metadata_filter": "all,-language_info",
   "split_at_heading": true,
   "text_representation": {
    "extension": ".Rmd",
    "format_name": "rmarkdown",
    "format_version": "1.2",
    "jupytext_version": "1.14.1"
   }
  },
  "kernelspec": {
   "display_name": "Python 3 (ipykernel)",
   "language": "python",
   "name": "python3"
  },
  "language_info": {
   "codemirror_mode": {
    "name": "ipython",
    "version": 3
   },
   "file_extension": ".py",
   "mimetype": "text/x-python",
   "name": "python",
   "nbconvert_exporter": "python",
   "pygments_lexer": "ipython3",
   "version": "3.10.9"
  }
 },
 "nbformat": 4,
 "nbformat_minor": 5
}
