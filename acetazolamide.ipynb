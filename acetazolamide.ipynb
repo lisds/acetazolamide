{
 "cells": [
  {
   "cell_type": "markdown",
   "id": "02f49843",
   "metadata": {},
   "source": [
    "# Treating acute mountain sickness"
   ]
  },
  {
   "cell_type": "code",
   "execution_count": null,
   "id": "a34d356a",
   "metadata": {},
   "outputs": [],
   "source": [
    "# Our usual imports\n",
    "import numpy as np\n",
    "# Make random number generator.\n",
    "rng = np.random.default_rng()\n",
    "import pandas as pd\n",
    "# Safe setting for Pandas.  Needs Pandas version >= 1.5.\n",
    "pd.set_option('mode.copy_on_write', True)\n",
    "\n",
    "import matplotlib.pyplot as plt\n",
    "plt.style.use('fivethirtyeight')\n",
    "\n",
    "# The OKpy testing system.\n",
    "from client.api.notebook import Notebook\n",
    "ok = Notebook('acetazolamide.ok')"
   ]
  },
  {
   "cell_type": "markdown",
   "id": "7ce51180",
   "metadata": {},
   "source": [
    "Here we are looking at some data from this experiment:\n",
    "\n",
    "> Emma V. Low et al. \"Identifying the lowest effective dose of\n",
    "acetazolamide for the prophylaxis of acute mountain sickness: systematic review\n",
    "and meta-analysis.\" BMJ, 345, :doi:`10.1136/bmj.e6779`, 2012.\n",
    "\n",
    "The paper studies doses of the drug *acetazolamide* in treating *acute mountain\n",
    "sickness*.  Acute mountain sickness (AMS) is a mild form of the potentially\n",
    "fatal [altitude sickness](https://en.wikipedia.org/wiki/Altitude_sickness),\n",
    "caused by \"rapid exposure to low amounts of oxygen at high elevation\".\n",
    "Symptoms are nausea, headaches, dizziness and fatigue.\n",
    "\n",
    "The paper concludes:\n",
    "\n",
    "> Acetazolamide 250 mg, 500 mg, and 750 mg daily were all efficacious for\n",
    "preventing acute mountain sickness. Acetazolamide 250 mg was the lowest\n",
    "effective dose with available evidence for this indication.\n",
    "\n",
    "We can reconstruct a table from their data that shows the effect of 250mg of\n",
    "acetazolamide daily in preventing AMS, compared to placebo."
   ]
  },
  {
   "cell_type": "code",
   "execution_count": null,
   "id": "6c2cd005",
   "metadata": {},
   "outputs": [],
   "source": [
    "# Build AMS / Drug contingency DataFrame\n",
    "counts = [[7, 17], [15, 5]]  #  A list of lists\n",
    "ams_counts = pd.DataFrame(counts,\n",
    "                          # Set the column labels.\n",
    "                          columns=['Acetazolamide', 'Placebo'],\n",
    "                          # Set the row labels.\n",
    "                          index=['Had AMS', 'No AMS'])\n",
    "ams_counts"
   ]
  },
  {
   "cell_type": "markdown",
   "id": "41969dde",
   "metadata": {},
   "source": [
    "This is a *counts* table, giving the number of people in each category.\n",
    "\n",
    "For example, here is the number of people who did get AMS, who were in the\n",
    "250mg daily acetazolamide group:"
   ]
  },
  {
   "cell_type": "code",
   "execution_count": null,
   "id": "33f355d3",
   "metadata": {},
   "outputs": [],
   "source": [
    "ams_counts.loc['Had AMS', 'Acetazolamide']"
   ]
  },
  {
   "cell_type": "markdown",
   "id": "febba6f8",
   "metadata": {},
   "source": [
    "For our usual task of *inference*, this table gives the *data*."
   ]
  },
  {
   "cell_type": "markdown",
   "id": "88798f7e",
   "metadata": {},
   "source": [
    "How convincing is the evidence in this table, that 250mg of acetazolamide is\n",
    "effective in treating AMS?\n",
    "\n",
    "We begin by formulating a null model.  Remember, the null model is a model that\n",
    "is as close as possible to the real world, but with the effect we are\n",
    "interested in set to 0.\n",
    "\n",
    "> The odds of experiencing AMS after treatment with acetazolamide are *not\n",
    "> different from* (are the same as) the odds of experiencing AMS after placebo."
   ]
  },
  {
   "cell_type": "markdown",
   "id": "1e7e7826",
   "metadata": {},
   "source": [
    "We first identify the *statistic* we are going to use.  We use the number of\n",
    "people who did have AMS, who also took the Acetazolamide."
   ]
  },
  {
   "cell_type": "code",
   "execution_count": null,
   "id": "1a378ee1",
   "metadata": {},
   "outputs": [],
   "source": [
    "observed_stat = ams_counts.loc['Had AMS', 'Acetazolamide']\n",
    "observed_stat"
   ]
  },
  {
   "cell_type": "markdown",
   "id": "41d09783",
   "metadata": {},
   "source": [
    "Our next step is to simulate one trial in the null-world, in which the\n",
    "association is random between AMS (Has and No) and drug (Acetazolamide and\n",
    "Placebo).\n",
    "\n",
    "In order to do that, we want to:\n",
    "\n",
    "* reconstruct the original *Observations* DataFrame from the Counts DataFrame\n",
    "  that we have.  The Observations DataFrame has one row per person, and the\n",
    "  columns are \"AMS\" (Yes or No) and \"Drug\" (Acetazolamide or Placebo).\n",
    "* Simulate a random association, by shuffling the AMS (or Drug) column.\n",
    "* Regenerate the cross-tabulation for this shuffled DataFrame.\n",
    "* Get the statistic of interest (the \"Has AMS\", \"Acetazolamide\" count).\n",
    "\n",
    "The most involved part of this process is first step, going from Counts to\n",
    "Observations.\n",
    "\n",
    "Go back to the [noble politics page](https://lisds.github.io/textbook/wild-pandas/noble_politics) for a refresher on this process.\n",
    "\n",
    "The total number of observations in the Counts data frame is:"
   ]
  },
  {
   "cell_type": "code",
   "execution_count": null,
   "id": "6ff7e3a3",
   "metadata": {},
   "outputs": [],
   "source": [
    "# Sum of the row totals.\n",
    "n_total = ams_counts.sum().sum()\n",
    "n_total"
   ]
  },
  {
   "cell_type": "markdown",
   "id": "2d7a38ee",
   "metadata": {},
   "source": [
    "First make a list of lists, where each list defines one row, and there is one\n",
    "list for every row in the Observations DataFrame.  Call this list of lists\n",
    "`row_lists`.\n",
    "\n",
    "For example, the first three lists in `row_lists` will be:"
   ]
  },
  {
   "cell_type": "code",
   "execution_count": null,
   "id": "488b6a7c",
   "metadata": {},
   "outputs": [],
   "source": [
    "first_three = [['Had AMS', 'Acetazolamide'],\n",
    "               ['Had AMS', 'Acetazolamide'],\n",
    "               ['Had AMS', 'Acetazolamide']]\n",
    "first_three"
   ]
  },
  {
   "cell_type": "markdown",
   "id": "7fc7d0d6",
   "metadata": {},
   "source": [
    "The last three lists in `row_lists` will be:"
   ]
  },
  {
   "cell_type": "code",
   "execution_count": null,
   "id": "fc929b5b",
   "metadata": {},
   "outputs": [],
   "source": [
    "last_three = [['No AMS', 'Placebo'],\n",
    "              ['No AMS', 'Placebo'],\n",
    "              ['No AMS', 'Placebo']]\n",
    "last_three"
   ]
  },
  {
   "cell_type": "markdown",
   "id": "d58f396a",
   "metadata": {},
   "source": [
    "We can get the same list of lists by *multiplying* the list:"
   ]
  },
  {
   "cell_type": "code",
   "execution_count": null,
   "id": "9698098e",
   "metadata": {},
   "outputs": [],
   "source": [
    "[['No AMS', 'Placebo']] * 3"
   ]
  },
  {
   "cell_type": "markdown",
   "id": "dd11230b",
   "metadata": {},
   "source": [
    "If you are stuck, check back to the Noble Politics page."
   ]
  },
  {
   "cell_type": "code",
   "execution_count": null,
   "id": "25b3d08d",
   "metadata": {},
   "outputs": [],
   "source": [
    "row_lists = (  # Parentheses just to allow you to split the next\n",
    "               # statement across many lines, if you want.\n",
    "    ...\n",
    ")\n",
    "# Show the last five lists\n",
    "row_lists[-5:]"
   ]
  },
  {
   "cell_type": "code",
   "execution_count": null,
   "id": "49b80f9b",
   "metadata": {},
   "outputs": [],
   "source": [
    "_ = ok.grade('q_01_row_lists')"
   ]
  },
  {
   "cell_type": "markdown",
   "id": "ec8d7251",
   "metadata": {},
   "source": [
    "Use `row_lists` to create an Observations DataFrame `people`, with one row per person in the study.  The first column of the DataFrame should contain the AMS label ('Had AMS' or 'No AMS'), and have the column name `AMS`.  The second column should contain the drug label (`Acetazolamide` or `Placebo`) and be called `Drug` (notice the capitalization)."
   ]
  },
  {
   "cell_type": "code",
   "execution_count": null,
   "id": "22e05055",
   "metadata": {},
   "outputs": [],
   "source": [
    "people = ...\n",
    "# Show the result.\n",
    "people"
   ]
  },
  {
   "cell_type": "code",
   "execution_count": null,
   "id": "79bb22a9",
   "metadata": {},
   "outputs": [],
   "source": [
    "_ = ok.grade('q_02_people')"
   ]
  },
  {
   "cell_type": "markdown",
   "id": "ea2dd3b9",
   "metadata": {},
   "source": [
    "Extract the `AMS` column of `people` as the variable `ams`.\n",
    "\n",
    "Extract the `Drug` column of `people` as the variable `drug`."
   ]
  },
  {
   "cell_type": "code",
   "execution_count": null,
   "id": "e28db896",
   "metadata": {},
   "outputs": [],
   "source": [
    "ams = ...\n",
    "drug = ..."
   ]
  },
  {
   "cell_type": "code",
   "execution_count": null,
   "id": "f2ebf53a",
   "metadata": {},
   "outputs": [],
   "source": [
    "_ = ok.grade('q_03_columns')"
   ]
  },
  {
   "cell_type": "markdown",
   "id": "37d756f9",
   "metadata": {},
   "source": [
    "Run the cell below to assure yourself that the crosstab of the two columns\n",
    "reconstructs the original counts DataFrame."
   ]
  },
  {
   "cell_type": "code",
   "execution_count": null,
   "id": "5ccf800b",
   "metadata": {},
   "outputs": [],
   "source": [
    "# Run this cell.\n",
    "pd.crosstab(ams, drug)"
   ]
  },
  {
   "cell_type": "markdown",
   "id": "9b9701bc",
   "metadata": {},
   "source": [
    "We are now ready to do the other steps in inference.\n",
    "\n",
    "First construct a counts table from the null-world, called `fake_ams_counts`.\n",
    "This is the cross-tabulation of a shuffled version of `ams` with the original\n",
    "`drug`.\n"
   ]
  },
  {
   "cell_type": "code",
   "execution_count": null,
   "id": "5707afde",
   "metadata": {},
   "outputs": [],
   "source": [
    "fake_ams_counts = ...\n",
    "# Show the result\n",
    "fake_ams_counts"
   ]
  },
  {
   "cell_type": "code",
   "execution_count": null,
   "id": "c4e2534a",
   "metadata": {},
   "outputs": [],
   "source": [
    "_ = ok.grade('q_04_fake_ams_counts')"
   ]
  },
  {
   "cell_type": "markdown",
   "id": "012c472d",
   "metadata": {},
   "source": [
    "You can extract the *statistic* for this trial in the null-world, by getting\n",
    "the value we are interested in, like this:"
   ]
  },
  {
   "cell_type": "code",
   "execution_count": null,
   "id": "338041de",
   "metadata": {},
   "outputs": [],
   "source": [
    "fake_stat = fake_ams_counts.loc['Had AMS', 'Acetazolamide']\n",
    "fake_stat"
   ]
  },
  {
   "cell_type": "markdown",
   "id": "8af5ce00",
   "metadata": {},
   "source": [
    "Now you have the procedure to do a single trial, put all this into a `for`\n",
    "loop, to repeat the following 1000 times:\n",
    "\n",
    "* Make a new `fake_ams_counts` table.\n",
    "* Extract the `fake_stat` value of interest.\n",
    "* Store the `fake_stat` value in an array `fake_stats`."
   ]
  },
  {
   "cell_type": "code",
   "execution_count": null,
   "id": "ab4d7c7e",
   "metadata": {},
   "outputs": [],
   "source": [
    "n_iters = 1000\n",
    "fake_stats = np.zeros(n_iters)\n",
    "for i in np.arange(n_iters):\n",
    "    ...\n",
    "# Show the first 10 fake_stats values\n",
    "fake_stats[:10]"
   ]
  },
  {
   "cell_type": "code",
   "execution_count": null,
   "id": "0686d987",
   "metadata": {},
   "outputs": [],
   "source": [
    "_ = ok.grade('q_05_fake_counts')"
   ]
  },
  {
   "cell_type": "markdown",
   "id": "0f4c36cd",
   "metadata": {},
   "source": [
    "Plot a histogram of your `fake_stats` values to see how they relate to the\n",
    "observed value from the real world, above."
   ]
  },
  {
   "cell_type": "code",
   "execution_count": null,
   "id": "8fb5a3da",
   "metadata": {},
   "outputs": [],
   "source": [
    "#- Plot a histogram of `fake_stats`\n",
    "..."
   ]
  },
  {
   "cell_type": "markdown",
   "id": "4f67607b",
   "metadata": {},
   "source": [
    "Calculate the estimated probability `p_est` that we would see a value that is\n",
    "less than or equal to the observed number of 'No AMS' and 'Acetazolamide', in\n",
    "the null-world you have just simulated."
   ]
  },
  {
   "cell_type": "code",
   "execution_count": null,
   "id": "3f616ada",
   "metadata": {},
   "outputs": [],
   "source": [
    "p_est = np.count_nonzero(fake_stats <= observed_stat) / n_iters\n",
    "p_est"
   ]
  },
  {
   "cell_type": "code",
   "execution_count": null,
   "id": "84c8b607",
   "metadata": {},
   "outputs": [],
   "source": [
    "_ = ok.grade('q_06_p_est')"
   ]
  },
  {
   "cell_type": "markdown",
   "id": "a32d7ca8",
   "metadata": {},
   "source": [
    "## Done.\n",
    "\n",
    "Congratulations, you're done with the assignment!  Be sure to:\n",
    "\n",
    "- **run all the tests** (the next cell has a shortcut for that).\n",
    "- **Save and Checkpoint** from the `File` menu."
   ]
  },
  {
   "cell_type": "code",
   "execution_count": null,
   "id": "53a42795",
   "metadata": {},
   "outputs": [],
   "source": [
    "# For your convenience, you can run this cell to run all the tests at once!\n",
    "import os\n",
    "_ = [ok.grade(q[:-3]) for q in os.listdir(\"tests\") if q.startswith('q')]"
   ]
  }
 ],
 "metadata": {
  "jupytext": {
   "notebook_metadata_filter": "all,-language_info",
   "split_at_heading": true,
   "text_representation": {
    "extension": ".Rmd",
    "format_name": "rmarkdown",
    "format_version": "1.2",
    "jupytext_version": "1.14.1"
   }
  },
  "kernelspec": {
   "display_name": "Python 3 (ipykernel)",
   "language": "python",
   "name": "python3"
  }
 },
 "nbformat": 4,
 "nbformat_minor": 5
}
